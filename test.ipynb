{
 "cells": [
  {
   "cell_type": "code",
   "execution_count": 1,
   "metadata": {},
   "outputs": [],
   "source": [
    "import requests\n",
    "from requests.packages.urllib3 import ssl"
   ]
  },
  {
   "cell_type": "code",
   "execution_count": 5,
   "metadata": {},
   "outputs": [],
   "source": [
    "\n",
    "class TLSAdapter(requests.adapters.HTTPAdapter):\n",
    "\n",
    "    def init_poolmanager(self, *args, **kwargs):\n",
    "        ctx = ssl.create_default_context()\n",
    "        ctx.set_ciphers('DEFAULT@SECLEVEL=1')\n",
    "        kwargs['ssl_context'] = ctx\n",
    "        return super(TLSAdapter, self).init_poolmanager(*args, **kwargs)\n",
    "\n",
    "BASIC_PARAMS ={\n",
    "        \"MobileOS\": \"ETC\",\n",
    "        \"MobileApp\": \"AppTest\",\n",
    "        \"_type\": \"json\",\n",
    "        \"serviceKey\": \"0JqgNdKPO9DWmAJhDNQSvhdt198m8i8rHC6T8TyzGsSr3tXfT/AELcsEBwdF9oaeSKAl4vQ1z1ZxMSK8P35OTw==\"\n",
    "    }\n",
    "HEADERS = {\n",
    "    \"Content-Type\": \"application/json\",\n",
    "    \"User-Agent\": \"User-Agent\",\n",
    "    # \"cookie\": \"NCPVPCLB=53dc2963a8054bd57870a8b2355dc148919c5a02851f15d4ffafa945a766b4a1\"\n",
    "}\n",
    "BASE_URL = \"https://apis.data.go.kr/B551011/KorService1\"\n",
    "# ctx = ssl.create_default_context()\n",
    "# ctx.set_ciphers('DEFAULT:!TLSv1.1')\n",
    "def fetch_all_area_code():\n",
    "    path = \"/areaCode1\"\n",
    "    params = {\n",
    "        \"MobileOS\": \"ETC\",\n",
    "        \"MobileApp\": \"AppTest\",\n",
    "        \"_type\": \"json\",\n",
    "        \"serviceKey\": \"0JqgNdKPO9DWmAJhDNQSvhdt198m8i8rHC6T8TyzGsSr3tXfT/AELcsEBwdF9oaeSKAl4vQ1z1ZxMSK8P35OTw==\"\n",
    "    }\n",
    "    headers = {\n",
    "        \"Content-Type\": \"application/json\",\n",
    "        \"User-Agent\": \"User-Agent\",\n",
    "        \"cookie\": \"NCPVPCLB=53dc2963a8054bd57870a8b2355dc148919c5a02851f15d4ffafa945a766b4a1\"\n",
    "    }\n",
    "    url = BASE_URL + path\n",
    "    session = requests.session()\n",
    "    session.mount('https://', TLSAdapter())\n",
    "    res = session.get(url, params=params)\n",
    "    return res.json()\n",
    "\n",
    "def fetch_area_by_location(map_x: float, map_y: float, redius: int):\n",
    "    params = {\n",
    "        \"mapX\": map_x,\n",
    "        \"mapY\": map_y,\n",
    "        \"radius\": redius,\n",
    "        \"numOfRows\": 100,\n",
    "        **BASIC_PARAMS\n",
    "    }\n",
    "    path = \"/locationBasedList1\"\n",
    "    url = BASE_URL + path\n",
    "    session = requests.session()\n",
    "    session.mount('https://', TLSAdapter())\n",
    "    res = session.get(url, params=params)\n",
    "    return res.json()\n",
    "    \n"
   ]
  },
  {
   "cell_type": "code",
   "execution_count": 10,
   "metadata": {},
   "outputs": [],
   "source": [
    "data = fetch_area_by_location(128.90949773031988, 37.79143235584392, 500)"
   ]
  },
  {
   "cell_type": "code",
   "execution_count": 14,
   "metadata": {},
   "outputs": [
    {
     "name": "stdout",
     "output_type": "stream",
     "text": [
      "[{'name': '허균·허난설헌 기념공원', 'address': '강원특별자치도 강릉시 난설헌로193번길 1-29 (초당동)', 'content_id': '2773086', 'content_type_id': '12', 'dist': '39.08657787690187', 'lat': '37.7910865997', 'lng': '128.9095810141'}, {'name': '허난설헌 생가터', 'address': '강원특별자치도 강릉시 난설헌로193번길 1-16', 'content_id': '2605196', 'content_type_id': '12', 'dist': '57.257737624879745', 'lat': '37.7919281710', 'lng': '128.9096754240'}, {'name': '허난설헌 솔숲', 'address': '강원특별자치도 강릉시 난설헌로193번길 1-16', 'content_id': '2605207', 'content_type_id': '12', 'dist': '57.257737624879745', 'lat': '37.7919281710', 'lng': '128.9096754240'}, {'name': '토담순두부', 'address': '강원특별자치도 강릉시 난설헌로193번길 1-19', 'content_id': '2775555', 'content_type_id': '39', 'dist': '96.25310879680517', 'lat': '37.7911338347', 'lng': '128.9105142620'}, {'name': '초당누카', 'address': '강원특별자치도 강릉시 난설헌로 178', 'content_id': '2894151', 'content_type_id': '39', 'dist': '188.65386522937501', 'lat': '37.7898034250', 'lng': '128.9101032293'}, {'name': '경포 아쿠아리움', 'address': '강원특별자치도 강릉시 난설헌로 131', 'content_id': '2687981', 'content_type_id': '12', 'dist': '205.68894056084324', 'lat': '37.7900894600', 'lng': '128.9079034181'}, {'name': '아르떼뮤지엄 강릉', 'address': '강원특별자치도 강릉시 난설헌로 131', 'content_id': '2804197', 'content_type_id': '14', 'dist': '205.68894056084324', 'lat': '37.7900894600', 'lng': '128.9079034181'}, {'name': '점봉산산채산나물천국', 'address': '강원특별자치도 강릉시 난설헌로 168', 'content_id': '2789528', 'content_type_id': '39', 'dist': '231.09885480049633', 'lat': '37.7893506886', 'lng': '128.9095421827'}, {'name': '정은숙초당순두부(초당면옥)', 'address': '강원특별자치도 강릉시 난설헌로 200', 'content_id': '2775515', 'content_type_id': '39', 'dist': '236.70914882752203', 'lat': '37.7908033470', 'lng': '128.9120419124'}, {'name': '초당길낭만게장', 'address': '강원특별자치도 강릉시 초당원길 104', 'content_id': '2687656', 'content_type_id': '39', 'dist': '291.5672211035221', 'lat': '37.7901478736', 'lng': '128.9123585707'}, {'name': '강릉불고기 초당점', 'address': '강원특별자치도 강릉시 초당순두부길 2', 'content_id': '2845593', 'content_type_id': '39', 'dist': '356.99713972088966', 'lat': '37.7882619117', 'lng': '128.9088228368'}, {'name': '초당비스트로', 'address': '강원특별자치도 강릉시 초당순두부길 19', 'content_id': '2873113', 'content_type_id': '39', 'dist': '397.1729602256947', 'lat': '37.7879480921', 'lng': '128.9105143608'}, {'name': '초당하우스', 'address': '강원특별자치도 강릉시 초당순두부길55번길 24 (초당동)', 'content_id': '3102226', 'content_type_id': '32', 'dist': '412.92140521662446', 'lat': '37.7904506480', 'lng': '128.9139778593'}, {'name': '초당골순두부', 'address': '강원특별자치도 강릉시 초당순두부길 33-1', 'content_id': '2687768', 'content_type_id': '39', 'dist': '421.72025443527554', 'lat': '37.7882314227', 'lng': '128.9120531014'}, {'name': '동화가든', 'address': '강원특별자치도 강릉시 초당순두부길77번길 15', 'content_id': '623223', 'content_type_id': '39', 'dist': '462.8037470209713', 'lat': '37.7912255723', 'lng': '128.9146972153'}, {'name': '툇마루', 'address': '강원특별자치도 강릉시 난설헌로 232', 'content_id': '2844107', 'content_type_id': '39', 'dist': '475.5635044943636', 'lat': '37.7929448142', 'lng': '128.9145027351'}, {'name': '갤러리밥스', 'address': '강원특별자치도 강릉시 난설헌로 144', 'content_id': '2753134', 'content_type_id': '39', 'dist': '479.67665946474335', 'lat': '37.7872786762', 'lng': '128.9080090516'}, {'name': '초당버거', 'address': '강원특별자치도 강릉시 초당순두부길77번길 20', 'content_id': '2876196', 'content_type_id': '39', 'dist': '482.4943228627305', 'lat': '37.7914644382', 'lng': '128.9149249652'}, {'name': '초당커피', 'address': '강원특별자치도 강릉시 초당순두부길77번길 20', 'content_id': '2894231', 'content_type_id': '39', 'dist': '482.4943228627305', 'lat': '37.7914644382', 'lng': '128.9149249652'}, {'name': '강릉 초당찰떡', 'address': '강원특별자치도 강릉시 초당순두부길77번길 20', 'content_id': '2930172', 'content_type_id': '39', 'dist': '482.4943228627305', 'lat': '37.7914644382', 'lng': '128.9149249652'}, {'name': '오월의초당', 'address': '강원특별자치도 강릉시 난설헌로 234-5', 'content_id': '2670977', 'content_type_id': '39', 'dist': '489.93799633995417', 'lat': '37.7930281403', 'lng': '128.9146360539'}, {'name': '원조초당순두부', 'address': '강원특별자치도 강릉시 초당순두부길77번길 9', 'content_id': '133494', 'content_type_id': '39', 'dist': '495.059609898048', 'lat': '37.7906395344', 'lng': '128.9149777638'}]\n"
     ]
    }
   ],
   "source": [
    "res = data[\"response\"][\"body\"][\"items\"][\"item\"]\n",
    "print([{\"name\":item[\"title\"], \"address\":item[\"addr1\"], \"content_id\":item[\"contentid\"], \"content_type_id\":item[\"contenttypeid\"],\n",
    "             \"dist\":item[\"dist\"], \"lat\": item[\"mapy\"], \"lng\": item[\"mapx\"]} for item in res])"
   ]
  },
  {
   "cell_type": "code",
   "execution_count": null,
   "metadata": {},
   "outputs": [],
   "source": []
  }
 ],
 "metadata": {
  "kernelspec": {
   "display_name": "best-route",
   "language": "python",
   "name": "python3"
  },
  "language_info": {
   "codemirror_mode": {
    "name": "ipython",
    "version": 3
   },
   "file_extension": ".py",
   "mimetype": "text/x-python",
   "name": "python",
   "nbconvert_exporter": "python",
   "pygments_lexer": "ipython3",
   "version": "3.12.1"
  }
 },
 "nbformat": 4,
 "nbformat_minor": 2
}

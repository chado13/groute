{
 "cells": [
  {
   "cell_type": "code",
   "execution_count": 10,
   "metadata": {},
   "outputs": [],
   "source": [
    "import requests\n",
    "from requests.packages.urllib3 import ssl"
   ]
  },
  {
   "cell_type": "code",
   "execution_count": 41,
   "metadata": {},
   "outputs": [],
   "source": [
    "\n",
    "class TLSAdapter(requests.adapters.HTTPAdapter):\n",
    "\n",
    "    def init_poolmanager(self, *args, **kwargs):\n",
    "        ctx = ssl.create_default_context()\n",
    "        ctx.set_ciphers('DEFAULT@SECLEVEL=1')\n",
    "        kwargs['ssl_context'] = ctx\n",
    "        return super(TLSAdapter, self).init_poolmanager(*args, **kwargs)\n",
    "    \n",
    "BASE_URL = \"https://apis.data.go.kr/B551011/KorService1\"\n",
    "# ctx = ssl.create_default_context()\n",
    "# ctx.set_ciphers('DEFAULT:!TLSv1.1')\n",
    "def fetch_all_area_code():\n",
    "    path = \"/areaCode1\"\n",
    "    params = {\n",
    "        \"MobileOS\": \"ETC\",\n",
    "        \"MobileApp\": \"AppTest\",\n",
    "        \"_type\": \"json\",\n",
    "        \"serviceKey\": \"0JqgNdKPO9DWmAJhDNQSvhdt198m8i8rHC6T8TyzGsSr3tXfT/AELcsEBwdF9oaeSKAl4vQ1z1ZxMSK8P35OTw==\"\n",
    "    }\n",
    "    headers = {\n",
    "        \"Content-Type\": \"application/json\",\n",
    "        \"User-Agent\": \"User-Agent\",\n",
    "        \"cookie\": \"NCPVPCLB=53dc2963a8054bd57870a8b2355dc148919c5a02851f15d4ffafa945a766b4a1\"\n",
    "    }\n",
    "    url = BASE_URL + path\n",
    "    session = requests.session()\n",
    "    session.mount('https://', TLSAdapter())\n",
    "    res = session.get(url, params=params)\n",
    "    return res.json()\n"
   ]
  },
  {
   "cell_type": "code",
   "execution_count": 42,
   "metadata": {},
   "outputs": [],
   "source": [
    "data = fetch_all_area_code()"
   ]
  },
  {
   "cell_type": "code",
   "execution_count": 43,
   "metadata": {},
   "outputs": [
    {
     "data": {
      "text/plain": [
       "[{'rnum': 1, 'code': '1', 'name': '서울'},\n",
       " {'rnum': 2, 'code': '2', 'name': '인천'},\n",
       " {'rnum': 3, 'code': '3', 'name': '대전'},\n",
       " {'rnum': 4, 'code': '4', 'name': '대구'},\n",
       " {'rnum': 5, 'code': '5', 'name': '광주'},\n",
       " {'rnum': 6, 'code': '6', 'name': '부산'},\n",
       " {'rnum': 7, 'code': '7', 'name': '울산'},\n",
       " {'rnum': 8, 'code': '8', 'name': '세종특별자치시'},\n",
       " {'rnum': 9, 'code': '31', 'name': '경기도'},\n",
       " {'rnum': 10, 'code': '32', 'name': '강원특별자치도'}]"
      ]
     },
     "execution_count": 43,
     "metadata": {},
     "output_type": "execute_result"
    }
   ],
   "source": [
    "data[\"response\"][\"body\"][\"items\"][\"item\"]"
   ]
  },
  {
   "cell_type": "code",
   "execution_count": null,
   "metadata": {},
   "outputs": [],
   "source": []
  }
 ],
 "metadata": {
  "kernelspec": {
   "display_name": "best-route",
   "language": "python",
   "name": "python3"
  },
  "language_info": {
   "codemirror_mode": {
    "name": "ipython",
    "version": 3
   },
   "file_extension": ".py",
   "mimetype": "text/x-python",
   "name": "python",
   "nbconvert_exporter": "python",
   "pygments_lexer": "ipython3",
   "version": "3.12.1"
  }
 },
 "nbformat": 4,
 "nbformat_minor": 2
}
